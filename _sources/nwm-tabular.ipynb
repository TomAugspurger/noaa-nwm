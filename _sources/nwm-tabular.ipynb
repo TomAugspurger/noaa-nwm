{
 "cells": [
  {
   "cell_type": "markdown",
   "id": "9b9d52bb-1273-4309-a730-ae733921d995",
   "metadata": {},
   "source": [
    "# Timeseries analysis\n",
    "\n",
    "Thus far, we've read the data files as output by the National Water Model, which are hourly snapshots. If you want to do some kind if timeseries analysis, where you access data from a (perhaps small) spatial area of interest, you would need to read data from every single NetCDF file. Even if your access to the metadata is fast (thanks to Kerchunk) reading data from that many files is still going to take a while.\n",
    "\n",
    "At a fundamental level, the chunking of the data on disk will dictate your maximum performance."
   ]
  },
  {
   "cell_type": "code",
   "execution_count": 1,
   "id": "b94a1b31-09c2-4b36-9a66-e22a24ac1782",
   "metadata": {
    "tags": []
   },
   "outputs": [],
   "source": [
    "import dask.dataframe as dd\n",
    "import dask_geopandas\n",
    "import geopandas"
   ]
  },
  {
   "cell_type": "code",
   "execution_count": 2,
   "id": "b9be96e0-075a-4d70-829c-6248400360a9",
   "metadata": {
    "tags": []
   },
   "outputs": [
    {
     "data": {
      "text/html": [
       "<div><strong>Dask-GeoPandas GeoDataFrame Structure:</strong></div>\n",
       "<div>\n",
       "<style scoped>\n",
       "    .dataframe tbody tr th:only-of-type {\n",
       "        vertical-align: middle;\n",
       "    }\n",
       "\n",
       "    .dataframe tbody tr th {\n",
       "        vertical-align: top;\n",
       "    }\n",
       "\n",
       "    .dataframe thead th {\n",
       "        text-align: right;\n",
       "    }\n",
       "</style>\n",
       "<table border=\"1\" class=\"dataframe\">\n",
       "  <thead>\n",
       "    <tr style=\"text-align: right;\">\n",
       "      <th></th>\n",
       "      <th>feature_id</th>\n",
       "      <th>geometry</th>\n",
       "      <th>reservoir_type</th>\n",
       "      <th>water_sfc_elev</th>\n",
       "      <th>inflow</th>\n",
       "      <th>outflow</th>\n",
       "    </tr>\n",
       "    <tr>\n",
       "      <th>npartitions=21</th>\n",
       "      <th></th>\n",
       "      <th></th>\n",
       "      <th></th>\n",
       "      <th></th>\n",
       "      <th></th>\n",
       "      <th></th>\n",
       "    </tr>\n",
       "  </thead>\n",
       "  <tbody>\n",
       "    <tr>\n",
       "      <th></th>\n",
       "      <td>int32</td>\n",
       "      <td>geometry</td>\n",
       "      <td>category[unknown]</td>\n",
       "      <td>float32</td>\n",
       "      <td>float64</td>\n",
       "      <td>float64</td>\n",
       "    </tr>\n",
       "    <tr>\n",
       "      <th></th>\n",
       "      <td>...</td>\n",
       "      <td>...</td>\n",
       "      <td>...</td>\n",
       "      <td>...</td>\n",
       "      <td>...</td>\n",
       "      <td>...</td>\n",
       "    </tr>\n",
       "    <tr>\n",
       "      <th>...</th>\n",
       "      <td>...</td>\n",
       "      <td>...</td>\n",
       "      <td>...</td>\n",
       "      <td>...</td>\n",
       "      <td>...</td>\n",
       "      <td>...</td>\n",
       "    </tr>\n",
       "    <tr>\n",
       "      <th></th>\n",
       "      <td>...</td>\n",
       "      <td>...</td>\n",
       "      <td>...</td>\n",
       "      <td>...</td>\n",
       "      <td>...</td>\n",
       "      <td>...</td>\n",
       "    </tr>\n",
       "    <tr>\n",
       "      <th></th>\n",
       "      <td>...</td>\n",
       "      <td>...</td>\n",
       "      <td>...</td>\n",
       "      <td>...</td>\n",
       "      <td>...</td>\n",
       "      <td>...</td>\n",
       "    </tr>\n",
       "  </tbody>\n",
       "</table>\n",
       "</div>\n",
       "<div>Dask Name: GeoDataFrame, 5 graph layers</div>"
      ],
      "text/plain": [
       "Dask GeoDataFrame Structure:\n",
       "               feature_id  geometry     reservoir_type water_sfc_elev   inflow  outflow\n",
       "npartitions=21                                                                         \n",
       "                    int32  geometry  category[unknown]        float32  float64  float64\n",
       "                      ...       ...                ...            ...      ...      ...\n",
       "...                   ...       ...                ...            ...      ...      ...\n",
       "                      ...       ...                ...            ...      ...      ...\n",
       "                      ...       ...                ...            ...      ...      ...\n",
       "Dask Name: GeoDataFrame, 5 graph layers"
      ]
     },
     "execution_count": 2,
     "metadata": {},
     "output_type": "execute_result"
    }
   ],
   "source": [
    "df = dd.read_parquet(\n",
    "    \"az://ciroh/short-range-reservoir.parquet/\",\n",
    "    storage_options={\"account_name\": \"noaanwm\"},\n",
    ")\n",
    "geometry = df.geometry.map_partitions(\n",
    "    geopandas.GeoSeries.from_wkb,\n",
    "    meta=geopandas.GeoSeries([], name=\"geometry\"),\n",
    "    crs=\"epsg:4326\",\n",
    ")\n",
    "\n",
    "gdf = dask_geopandas.from_dask_dataframe(df, geometry=geometry)\n",
    "gdf"
   ]
  },
  {
   "cell_type": "code",
   "execution_count": 3,
   "id": "cf8467f2-7669-4b0e-a158-f6193d4bde5f",
   "metadata": {
    "tags": []
   },
   "outputs": [
    {
     "data": {
      "text/html": [
       "<div>\n",
       "<style scoped>\n",
       "    .dataframe tbody tr th:only-of-type {\n",
       "        vertical-align: middle;\n",
       "    }\n",
       "\n",
       "    .dataframe tbody tr th {\n",
       "        vertical-align: top;\n",
       "    }\n",
       "\n",
       "    .dataframe thead th {\n",
       "        text-align: right;\n",
       "    }\n",
       "</style>\n",
       "<table border=\"1\" class=\"dataframe\">\n",
       "  <thead>\n",
       "    <tr style=\"text-align: right;\">\n",
       "      <th></th>\n",
       "      <th>feature_id</th>\n",
       "      <th>geometry</th>\n",
       "      <th>reservoir_type</th>\n",
       "      <th>water_sfc_elev</th>\n",
       "      <th>inflow</th>\n",
       "      <th>outflow</th>\n",
       "    </tr>\n",
       "    <tr>\n",
       "      <th>time</th>\n",
       "      <th></th>\n",
       "      <th></th>\n",
       "      <th></th>\n",
       "      <th></th>\n",
       "      <th></th>\n",
       "      <th></th>\n",
       "    </tr>\n",
       "  </thead>\n",
       "  <tbody>\n",
       "    <tr>\n",
       "      <th>2021-08-26 01:00:00</th>\n",
       "      <td>491</td>\n",
       "      <td>POINT (-68.37904 46.18327)</td>\n",
       "      <td>1</td>\n",
       "      <td>205.007019</td>\n",
       "      <td>0.18</td>\n",
       "      <td>0.27</td>\n",
       "    </tr>\n",
       "    <tr>\n",
       "      <th>2021-08-26 01:00:00</th>\n",
       "      <td>531</td>\n",
       "      <td>POINT (-68.45489 46.16116)</td>\n",
       "      <td>1</td>\n",
       "      <td>247.148026</td>\n",
       "      <td>0.39</td>\n",
       "      <td>0.09</td>\n",
       "    </tr>\n",
       "    <tr>\n",
       "      <th>2021-08-26 01:00:00</th>\n",
       "      <td>747</td>\n",
       "      <td>POINT (-68.06499 46.03409)</td>\n",
       "      <td>1</td>\n",
       "      <td>190.294937</td>\n",
       "      <td>0.02</td>\n",
       "      <td>0.07</td>\n",
       "    </tr>\n",
       "    <tr>\n",
       "      <th>2021-08-26 01:00:00</th>\n",
       "      <td>759</td>\n",
       "      <td>POINT (-68.16213 46.02238)</td>\n",
       "      <td>1</td>\n",
       "      <td>165.124832</td>\n",
       "      <td>0.00</td>\n",
       "      <td>0.17</td>\n",
       "    </tr>\n",
       "    <tr>\n",
       "      <th>2021-08-26 01:00:00</th>\n",
       "      <td>1581</td>\n",
       "      <td>POINT (-67.93720 45.64844)</td>\n",
       "      <td>1</td>\n",
       "      <td>130.014114</td>\n",
       "      <td>0.47</td>\n",
       "      <td>0.53</td>\n",
       "    </tr>\n",
       "  </tbody>\n",
       "</table>\n",
       "</div>"
      ],
      "text/plain": [
       "                     feature_id                    geometry reservoir_type  \\\n",
       "time                                                                         \n",
       "2021-08-26 01:00:00         491  POINT (-68.37904 46.18327)              1   \n",
       "2021-08-26 01:00:00         531  POINT (-68.45489 46.16116)              1   \n",
       "2021-08-26 01:00:00         747  POINT (-68.06499 46.03409)              1   \n",
       "2021-08-26 01:00:00         759  POINT (-68.16213 46.02238)              1   \n",
       "2021-08-26 01:00:00        1581  POINT (-67.93720 45.64844)              1   \n",
       "\n",
       "                     water_sfc_elev  inflow  outflow  \n",
       "time                                                  \n",
       "2021-08-26 01:00:00      205.007019    0.18     0.27  \n",
       "2021-08-26 01:00:00      247.148026    0.39     0.09  \n",
       "2021-08-26 01:00:00      190.294937    0.02     0.07  \n",
       "2021-08-26 01:00:00      165.124832    0.00     0.17  \n",
       "2021-08-26 01:00:00      130.014114    0.47     0.53  "
      ]
     },
     "execution_count": 3,
     "metadata": {},
     "output_type": "execute_result"
    }
   ],
   "source": [
    "gdf.head()"
   ]
  },
  {
   "cell_type": "code",
   "execution_count": 4,
   "id": "d448ecc8-80d4-4ede-b399-b71dd230d6b9",
   "metadata": {
    "tags": []
   },
   "outputs": [
    {
     "name": "stdout",
     "output_type": "stream",
     "text": [
      "CPU times: user 6.45 s, sys: 1.91 s, total: 8.35 s\n",
      "Wall time: 3.49 s\n"
     ]
    },
    {
     "data": {
      "text/html": [
       "<div>\n",
       "<style scoped>\n",
       "    .dataframe tbody tr th:only-of-type {\n",
       "        vertical-align: middle;\n",
       "    }\n",
       "\n",
       "    .dataframe tbody tr th {\n",
       "        vertical-align: top;\n",
       "    }\n",
       "\n",
       "    .dataframe thead th {\n",
       "        text-align: right;\n",
       "    }\n",
       "</style>\n",
       "<table border=\"1\" class=\"dataframe\">\n",
       "  <thead>\n",
       "    <tr style=\"text-align: right;\">\n",
       "      <th></th>\n",
       "      <th>mean</th>\n",
       "      <th>min</th>\n",
       "      <th>max</th>\n",
       "      <th>std</th>\n",
       "    </tr>\n",
       "    <tr>\n",
       "      <th>feature_id</th>\n",
       "      <th></th>\n",
       "      <th></th>\n",
       "      <th></th>\n",
       "      <th></th>\n",
       "    </tr>\n",
       "  </thead>\n",
       "  <tbody>\n",
       "    <tr>\n",
       "      <th>491</th>\n",
       "      <td>0.794296</td>\n",
       "      <td>0.07</td>\n",
       "      <td>15.20</td>\n",
       "      <td>1.006294</td>\n",
       "    </tr>\n",
       "    <tr>\n",
       "      <th>531</th>\n",
       "      <td>0.342121</td>\n",
       "      <td>0.00</td>\n",
       "      <td>18.43</td>\n",
       "      <td>0.746961</td>\n",
       "    </tr>\n",
       "    <tr>\n",
       "      <th>747</th>\n",
       "      <td>0.416411</td>\n",
       "      <td>0.01</td>\n",
       "      <td>14.90</td>\n",
       "      <td>0.815884</td>\n",
       "    </tr>\n",
       "    <tr>\n",
       "      <th>759</th>\n",
       "      <td>0.000389</td>\n",
       "      <td>0.00</td>\n",
       "      <td>0.13</td>\n",
       "      <td>0.004175</td>\n",
       "    </tr>\n",
       "    <tr>\n",
       "      <th>1581</th>\n",
       "      <td>1.271340</td>\n",
       "      <td>0.37</td>\n",
       "      <td>5.22</td>\n",
       "      <td>1.113017</td>\n",
       "    </tr>\n",
       "  </tbody>\n",
       "</table>\n",
       "</div>"
      ],
      "text/plain": [
       "                mean   min    max       std\n",
       "feature_id                                 \n",
       "491         0.794296  0.07  15.20  1.006294\n",
       "531         0.342121  0.00  18.43  0.746961\n",
       "747         0.416411  0.01  14.90  0.815884\n",
       "759         0.000389  0.00   0.13  0.004175\n",
       "1581        1.271340  0.37   5.22  1.113017"
      ]
     },
     "execution_count": 4,
     "metadata": {},
     "output_type": "execute_result"
    }
   ],
   "source": [
    "%%time\n",
    "inflow = df.groupby(\"feature_id\").inflow.agg([\"mean\", \"min\", \"max\", \"std\"]).compute()\n",
    "inflow.head()"
   ]
  },
  {
   "cell_type": "code",
   "execution_count": 5,
   "id": "92a9039e-9403-4c3f-8e77-d068955ea07f",
   "metadata": {
    "tags": []
   },
   "outputs": [
    {
     "data": {
      "text/plain": [
       "76543788"
      ]
     },
     "execution_count": 5,
     "metadata": {},
     "output_type": "execute_result"
    }
   ],
   "source": [
    "len(df)"
   ]
  }
 ],
 "metadata": {
  "kernelspec": {
   "display_name": "Python 3 (ipykernel)",
   "language": "python",
   "name": "python3"
  },
  "language_info": {
   "codemirror_mode": {
    "name": "ipython",
    "version": 3
   },
   "file_extension": ".py",
   "mimetype": "text/x-python",
   "name": "python",
   "nbconvert_exporter": "python",
   "pygments_lexer": "ipython3",
   "version": "3.10.9"
  }
 },
 "nbformat": 4,
 "nbformat_minor": 5
}
